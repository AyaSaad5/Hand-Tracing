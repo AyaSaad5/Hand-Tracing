{
 "cells": [
  {
   "cell_type": "code",
   "execution_count": 2,
   "id": "363a35c4-eda3-49cd-9e9a-d411b20c6ffc",
   "metadata": {},
   "outputs": [
    {
     "name": "stdout",
     "output_type": "stream",
     "text": [
      "Requirement already satisfied: mediapipe in e:\\program files\\python\\lib\\site-packages (0.8.11)\n",
      "Requirement already satisfied: absl-py in e:\\program files\\python\\lib\\site-packages (from mediapipe) (1.1.0)\n",
      "Requirement already satisfied: matplotlib in e:\\program files\\python\\lib\\site-packages (from mediapipe) (3.6.0)\n",
      "Requirement already satisfied: opencv-contrib-python in e:\\program files\\python\\lib\\site-packages (from mediapipe) (4.6.0.66)\n",
      "Requirement already satisfied: protobuf<4,>=3.11 in e:\\program files\\python\\lib\\site-packages (from mediapipe) (3.19.4)\n",
      "Requirement already satisfied: numpy in e:\\program files\\python\\lib\\site-packages (from mediapipe) (1.23.0)\n",
      "Requirement already satisfied: attrs>=19.1.0 in e:\\program files\\python\\lib\\site-packages (from mediapipe) (21.4.0)\n",
      "Requirement already satisfied: packaging>=20.0 in e:\\program files\\python\\lib\\site-packages (from matplotlib->mediapipe) (21.3)\n",
      "Requirement already satisfied: contourpy>=1.0.1 in e:\\program files\\python\\lib\\site-packages (from matplotlib->mediapipe) (1.0.5)\n",
      "Requirement already satisfied: pillow>=6.2.0 in e:\\program files\\python\\lib\\site-packages (from matplotlib->mediapipe) (9.2.0)\n",
      "Requirement already satisfied: python-dateutil>=2.7 in e:\\program files\\python\\lib\\site-packages (from matplotlib->mediapipe) (2.8.2)\n",
      "Requirement already satisfied: fonttools>=4.22.0 in e:\\program files\\python\\lib\\site-packages (from matplotlib->mediapipe) (4.37.3)\n",
      "Requirement already satisfied: cycler>=0.10 in e:\\program files\\python\\lib\\site-packages (from matplotlib->mediapipe) (0.11.0)\n",
      "Requirement already satisfied: kiwisolver>=1.0.1 in e:\\program files\\python\\lib\\site-packages (from matplotlib->mediapipe) (1.4.4)\n",
      "Requirement already satisfied: pyparsing>=2.2.1 in e:\\program files\\python\\lib\\site-packages (from matplotlib->mediapipe) (3.0.9)\n",
      "Requirement already satisfied: six>=1.5 in e:\\program files\\python\\lib\\site-packages (from python-dateutil>=2.7->matplotlib->mediapipe) (1.16.0)\n"
     ]
    },
    {
     "name": "stderr",
     "output_type": "stream",
     "text": [
      "WARNING: Ignoring invalid distribution -eras (e:\\program files\\python\\lib\\site-packages)\n",
      "WARNING: Ignoring invalid distribution -eras (e:\\program files\\python\\lib\\site-packages)\n",
      "WARNING: Ignoring invalid distribution -eras (e:\\program files\\python\\lib\\site-packages)\n",
      "WARNING: Ignoring invalid distribution -eras (e:\\program files\\python\\lib\\site-packages)\n",
      "WARNING: Ignoring invalid distribution -eras (e:\\program files\\python\\lib\\site-packages)\n",
      "WARNING: Ignoring invalid distribution -eras (e:\\program files\\python\\lib\\site-packages)\n",
      "WARNING: You are using pip version 22.0.4; however, version 22.2.2 is available.\n",
      "You should consider upgrading via the 'E:\\program files\\Python\\python.exe -m pip install --upgrade pip' command.\n"
     ]
    }
   ],
   "source": [
    "!pip install mediapipe"
   ]
  },
  {
   "cell_type": "code",
   "execution_count": 5,
   "id": "2c34eff8-61e7-477c-8c31-0300d8548b64",
   "metadata": {},
   "outputs": [],
   "source": [
    "import cv2\n",
    "import mediapipe as mp"
   ]
  },
  {
   "cell_type": "code",
   "execution_count": 6,
   "id": "0d0a2360-1dfe-4b34-8909-68efe5d21538",
   "metadata": {},
   "outputs": [],
   "source": [
    "cap = cv2.VideoCapture(0)"
   ]
  },
  {
   "cell_type": "code",
   "execution_count": 7,
   "id": "d185cbaf-4bc1-48ad-b559-10095f05ba07",
   "metadata": {},
   "outputs": [],
   "source": [
    "mp_hands = mp.solutions.hands\n",
    "hands = mp_hands.Hands()\n",
    "mp_drawing = mp.solutions.drawing_utils\n",
    "mp_drawing_styles = mp.solutions.drawing_styles\n"
   ]
  },
  {
   "cell_type": "code",
   "execution_count": 8,
   "id": "b5dfbe09-36c0-4de8-860b-2cec7af6f8a9",
   "metadata": {},
   "outputs": [],
   "source": [
    "while True:\n",
    "    state , frame = cap.read()\n",
    "    results = hands.process(cv2.cvtColor(frame, cv2.COLOR_BGR2RGB))\n",
    "    \n",
    "    if results.multi_hand_landmarks is not None:  \n",
    "        for hand_landmarks in results.multi_hand_landmarks:\n",
    "            mp_drawing.draw_landmarks(\n",
    "              frame,\n",
    "              hand_landmarks,\n",
    "              mp_hands.HAND_CONNECTIONS,\n",
    "              mp_drawing_styles.get_default_hand_landmarks_style(),\n",
    "              mp_drawing_styles.get_default_hand_connections_style())\n",
    "        \n",
    "    \n",
    "    \n",
    "    \n",
    "    cv2.imshow(\"Stream\" , frame)\n",
    "    if(cv2.waitKey(30) & 0xff == ord(\"q\")):\n",
    "        break\n",
    "        \n",
    "        \n",
    "cap.release()\n",
    "cv2.destroyAllWindows()\n",
    "        "
   ]
  },
  {
   "cell_type": "code",
   "execution_count": null,
   "id": "e86870ee-3fef-4ae2-952d-d8c7d8ac8689",
   "metadata": {},
   "outputs": [],
   "source": []
  }
 ],
 "metadata": {
  "kernelspec": {
   "display_name": "Python 3 (ipykernel)",
   "language": "python",
   "name": "python3"
  },
  "language_info": {
   "codemirror_mode": {
    "name": "ipython",
    "version": 3
   },
   "file_extension": ".py",
   "mimetype": "text/x-python",
   "name": "python",
   "nbconvert_exporter": "python",
   "pygments_lexer": "ipython3",
   "version": "3.9.13"
  }
 },
 "nbformat": 4,
 "nbformat_minor": 5
}
